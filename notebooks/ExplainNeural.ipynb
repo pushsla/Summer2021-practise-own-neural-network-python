{
 "cells": [
  {
   "cell_type": "markdown",
   "metadata": {
    "collapsed": true,
    "pycharm": {
     "name": "#%% md\n"
    }
   },
   "source": [
    "# Реализация простой нейронной сети"
   ]
  },
  {
   "cell_type": "markdown",
   "metadata": {
    "pycharm": {
     "name": "#%% md\n"
    }
   },
   "source": [
    "## Нейрон\n",
    "Нейрон представляет собой следующий математический объект:\n",
    "\n",
    "$$n = f(\\vec w*\\vec x + h)$$\n",
    "\n",
    "Где *n* - результат работы нейрона, $\\vec x$ - значения, получаемые\n",
    "нейроном в качестве параметров, $\\vec w$ - корректировочные веса,\n",
    "придаваемые входным значениям, $h$ - свободный член, а $f(t)$ - функция активации\n",
    "\n",
    "Задача функции активации состоит в том, чтобы вычисляемые нейронами значения были\n",
    "ограничены, а также, как правило, в подавлении больших и \"усилении\" малых значений"
   ]
  },
  {
   "cell_type": "code",
   "execution_count": 14,
   "metadata": {
    "pycharm": {
     "name": "#%%\n"
    }
   },
   "outputs": [
    {
     "name": "stdout",
     "output_type": "stream",
     "text": [
      "0.7129931052444277\n"
     ]
    }
   ],
   "source": [
    "# Попробуем реализовать свой собственный нейрон\n",
    "# В качестве функции активации выберем сигмоиду\n",
    "from math import exp\n",
    "import numpy as np\n",
    "\n",
    "sig = lambda x: (ex := exp(x))/(ex + 1)\n",
    "\n",
    "class Neuron:\n",
    "    def __init__(self, inputs: int):\n",
    "        self.shape = (inputs,)\n",
    "        # Это веса нашего нейрона и свободный член\n",
    "        self.weights = np.random.rand(inputs + 1)\n",
    "\n",
    "    def calculate(self, x: np.array) -> np.array:\n",
    "        # проверим возможность матричного перемножения\n",
    "        if x.shape != self.shape:\n",
    "            raise Exception()\n",
    "        return sig(np.dot(self.weights, np.append(x, 1)))\n",
    "\n",
    "\n",
    "x = np.random.rand(5)\n",
    "n = Neuron(5)\n",
    "# Вот наш нейрон вычислил некоторое значение\n",
    "print(n.calculate(x))"
   ]
  },
  {
   "cell_type": "markdown",
   "metadata": {
    "pycharm": {
     "name": "#%% md\n"
    }
   },
   "source": [
    "## Слой\n",
    "\n",
    "Классическая нейронная сеть прямого распространения представляет собой набор слоёв, каждый из которых получает\n",
    "на вход результат вычисления предыдущего слоя\n",
    "\n",
    "Первый слой получает на вход данные для нейронной сети, а выход последнего слоя - это результат работы всей модели\n",
    "\n",
    "Слой можно быол бы реализовать, как класс-контейнер для множества\n",
    "нейронов, но такая никапсуляция излишня, кроме того есть небольшой секрет,\n",
    "который позволит сделать процесс вычисления всего слоя намного быстрее\n",
    "благодаря *numpy*:\n",
    "\n",
    "Слой - одномерный набор нейронов. Значит если мы представим слой, как\n",
    "матрицу, в строках которой нейроны, а в столбцах - их коэффициенты,\n",
    "то весь слой легко представить, как векторную функцию:\n",
    "\n",
    "$$\n",
    "output = \\vec F(\\vec o) \\\\\n",
    "\\vec o =\n",
    "\\begin{pmatrix}\n",
    "w_{11} & w_{12} & \\dots & w_{1p} & b_1\\\\\n",
    "\\ddots & \\ddots & \\ddots & \\ddots & \\ddots \\\\\n",
    "w_{n1} & w_{n2} & \\dots & w_{np} & b_n\n",
    "\\end{pmatrix}\n",
    "*\n",
    "\\begin{pmatrix}\n",
    "x_1 \\\\\n",
    "\\vdots \\\\\n",
    "x_p \\\\ \n",
    "1\n",
    "\\end{pmatrix}\n",
    "$$\n",
    "\n",
    "И действительно, легко заметить, что тогда каждый элемент в выхожном векторе есть $f(\\vec w*\\vec x + b)$"
   ]
  },
  {
   "cell_type": "code",
   "execution_count": 10,
   "metadata": {},
   "outputs": [],
   "source": [
    "# Для начала реализуем несколько исключений, которые нам понадобятся\n",
    "\n",
    "class LibraryException(Exception):\n",
    "    def __init__(self, msg: str, errs: list = None):\n",
    "        super().__init__(msg)\n",
    "        self.errs = errs\n",
    "        if self.errs:\n",
    "            for e in self.errs:\n",
    "                print(\"\\t\", e)\n",
    "\n",
    "\n",
    "# Для универсальности слоёв и функций активации, сделаем исключение базового класса.\n",
    "# Мы делаем его потому, что я люблю type annotations\n",
    "class DummyClassException(LibraryException):\n",
    "    def __init__(self, classtype: type):\n",
    "        super().__init__(\"The {} class is unusable due to being a base class\".format(classtype.__name__))\n",
    "\n",
    "\n",
    "# Ранее вы заметили, что я проверяю размерности. Данное исключение будем использовать именно для этого\n",
    "class ShapeMismatchException(LibraryException):\n",
    "    def __init__(self, classtype: type, function, need: tuple[int], got: tuple[int]):\n",
    "        super().__init__(\"{} expected {} shape in function {}, got {}\".format(classtype.__name__, need, function.__name__, got))\n",
    "\n",
    "\n",
    "class InternalShapeException(ShapeMismatchException):\n",
    "    pass"
   ]
  },
  {
   "cell_type": "code",
   "execution_count": 11,
   "metadata": {},
   "outputs": [],
   "source": [
    "# Базовый класс, обеспечивающий вариативность выбора функции при создании слоя\n",
    "class Activation:\n",
    "    \n",
    "    # Вычисление значения от СКАЛЯРА\n",
    "    @staticmethod\n",
    "    def value(x: float) -> float:\n",
    "        raise DummyClassException(Activation)\n",
    "\n",
    "    # Производная в СКАЛЯРНОЙ точке. Она понадобится нам позже.\n",
    "    @staticmethod\n",
    "    def derive(x: float) -> float:\n",
    "        raise DummyClassException(Activation)\n",
    "\n",
    "\n",
    "class SigmoidActivation(Activation):\n",
    "    @staticmethod\n",
    "    def value(x: float) -> float:\n",
    "        ex = exp(x)\n",
    "        return ex/(ex+1)\n",
    "\n",
    "    @staticmethod\n",
    "    def derive(x: float) -> float:\n",
    "        val = SigmoidActivation.value(x)\n",
    "        return val*(1-val)"
   ]
  },
  {
   "cell_type": "code",
   "execution_count": 22,
   "metadata": {},
   "outputs": [],
   "source": [
    "# Реализуем слой\n",
    "# Функцию активации для простоты будем применять поэлементно\n",
    "# Также реализуем функции активации в виде классов так, чтобы можно было использовать любую из них при создании слоя\n",
    "\n",
    "\n",
    "# Базовый класс для слоя. Он нам тоже понадобится позже\n",
    "class Layer:\n",
    "    def __init__(self, input_size: int, output_size: int, activation_type: type[Activation]):\n",
    "        self.neural_shape = (input_size, output_size)\n",
    "        self.matrix_shape = (output_size, input_size+1)\n",
    "        self.inputs_shape = (input_size,)\n",
    "        self.output_shape = (output_size,)\n",
    "        self.activation = activation_type\n",
    "        self.neurons = None\n",
    "\n",
    "        self.last_inputs = None\n",
    "        self.last_activated = None\n",
    "        self.last_unactivated = None\n",
    "\n",
    "    def calculate(self, inputs: np.array) -> np.array:\n",
    "        raise DummyClassException(Layer)\n",
    "\n",
    "\n",
    "# Так называемый входной слой. Он ничего не делает с получаемыми данными, просто отдает то, что взял\n",
    "# Он нам будет нужен, потому что.\n",
    "class InputLayer(Layer):\n",
    "    def __init__(self, input_size: int):\n",
    "        super().__init__(input_size, input_size, Activation)\n",
    "\n",
    "    def calculate(self, inputs: np.array) -> np.array:\n",
    "        self.last_inputs = np.ndarray.copy(inputs)\n",
    "        self.last_unactivated = np.ndarray.copy(inputs)\n",
    "        self.last_activated = np.ndarray.copy(inputs)\n",
    "\n",
    "        return self.last_activated\n",
    "    \n",
    "\n",
    "# собственно наш полносвязный слой, который представлен матрицей\n",
    "class D1FullLayer(Layer):\n",
    "    def __init__(self, input_size: int, output_size: int, activation_type: type[Activation]):\n",
    "        super().__init__(input_size, output_size, activation_type)\n",
    "\n",
    "        # Вот матрица, о которой я говорил ранее\n",
    "        # output_size - по сути число нейронов\n",
    "        self.neurons = np.random.rand(output_size, input_size+1)\n",
    "\n",
    "    def calculate(self, inputs: np.array) -> np.array:\n",
    "        if self.inputs_shape != inputs.shape:\n",
    "            raise ShapeMismatchException(D1FullLayer, self.calculate, self.inputs_shape, inputs.shape)\n",
    "\n",
    "        self.last_inputs = np.append(inputs, 1)\n",
    "        output = np.dot(self.neurons, self.last_inputs)\n",
    "        if self.output_shape != output.shape:\n",
    "            raise InternalShapeException(D1FullLayer, self.calculate, self.output_shape, output.shape)\n",
    "\n",
    "        self.last_activated = np.array([self.activation.value(x) for x in output])\n",
    "        self.last_unactivated = output\n",
    "\n",
    "        return self.last_activated"
   ]
  },
  {
   "cell_type": "code",
   "execution_count": 26,
   "metadata": {},
   "outputs": [
    {
     "name": "stdout",
     "output_type": "stream",
     "text": [
      "[0.65433401 0.67623598]\n",
      "\n",
      "[0.7750444  0.80447129 0.62826357 0.58115458 0.79493565 0.59372882\n",
      " 0.67987501 0.60867778 0.68213496 0.61264069]\n",
      "\n",
      "[0.05626878 0.12284134 0.03620381 0.48363657 0.0138788 ]\n",
      "[ True  True  True  True  True]\n"
     ]
    }
   ],
   "source": [
    "# Проверим, как будет работать наш слой\n",
    "\n",
    "lyr = D1FullLayer(5, 2, SigmoidActivation)\n",
    "print(lyr.calculate(x))\n",
    "print()\n",
    "lyr = D1FullLayer(5, 10, SigmoidActivation)\n",
    "print(lyr.calculate(x))\n",
    "\n",
    "print()\n",
    "# Ну и входной слой для чистоты эксперимента\n",
    "lyr = InputLayer(5)\n",
    "print(lyr.calculate(x))\n",
    "print(lyr.calculate(x) == x)"
   ]
  },
  {
   "cell_type": "markdown",
   "metadata": {},
   "source": [
    "# Нейронная сеть\n",
    "\n",
    "Наша сеть, с точки зрения математики, - это просто большая векторная функция. С практической точки зрения это список слоёв, через который прогоняется входной вектор.\n",
    "\n",
    "Реализуем его:"
   ]
  },
  {
   "cell_type": "code",
   "execution_count": 32,
   "metadata": {},
   "outputs": [],
   "source": [
    "class SimpleNetwork:\n",
    "    def __init__(self, input_size: int):\n",
    "        self.inputs_shape = (input_size,)\n",
    "        self.output_shape = (None,)\n",
    "        # так называемый входной слой добавляем автоматически\n",
    "        self.layers: list[Layer] = [InputLayer(self.inputs_shape[0])]\n",
    "\n",
    "    def add(self, layer_type: type[Layer], output_size: int, activation_type: type[Activation]):\n",
    "        input_size = self.layers[-1].output_shape[0]\n",
    "\n",
    "        self.layers.append(layer_type(input_size=input_size, output_size=output_size, activation_type=activation_type))\n",
    "        self.output_shape = self.layers[-1].output_shape\n",
    "\n",
    "    # Сразу реализуем метод для вычисления множества значений для множества входных векторов\n",
    "    def predict_many(self, x: np.array) -> np.array:\n",
    "        result = []\n",
    "        for example_num, example in enumerate(x):\n",
    "            result.append(self.predict(example))\n",
    "\n",
    "        return np.array(result)\n",
    "\n",
    "    def predict(self, x: np.array) -> np.array:\n",
    "        output = np.ndarray.copy(x)\n",
    "        for layer in self.layers:\n",
    "            output = layer.calculate(output)\n",
    "\n",
    "        return output"
   ]
  },
  {
   "cell_type": "code",
   "execution_count": 33,
   "metadata": {},
   "outputs": [
    {
     "data": {
      "text/plain": [
       "array([0.91188291, 0.89595165, 0.92336765, 0.9237787 , 0.93491812,\n",
       "       0.87954396, 0.87940511, 0.78510731, 0.85089038, 0.92262813])"
      ]
     },
     "execution_count": 33,
     "metadata": {},
     "output_type": "execute_result"
    }
   ],
   "source": [
    "# Посмотрим, что вычислит наша нейронная сеть:\n",
    "\n",
    "net = SimpleNetwork(5)\n",
    "net.add(D1FullLayer, 5, SigmoidActivation)\n",
    "net.add(D1FullLayer, 10, SigmoidActivation)\n",
    "net.predict(x)"
   ]
  },
  {
   "cell_type": "markdown",
   "metadata": {},
   "source": [
    "# Обучение сети\n",
    "\n",
    "Наша сеть теперь умеет вычислять векторы, получая на вход векторы. Но надо научить ее вычислять векторы, похожие на векторы из обучающих примеров.\n",
    "\n",
    "Как уже упоминалось ранее, по сути нейронаая сеть - это векторная функция $\\vec o(\\vec x)$\n",
    "\n",
    "Для того, чтобы результат работы сети стал похож на то, что мы ей даём, нужно определить меру похожести. Я буду использовать среднюю квадратичную ошибку *MSE*:\n",
    "$$\n",
    "MSE(x) = \\frac{1}{n} \\sum^{n}(real - predicted)^2\n",
    "$$\n",
    "\n",
    "Она-то и покажет нам, насколько мы \"хорошо\" обучили нашу сеть.\n",
    "\n",
    "## Градиентный спуск\n",
    "Теперь становится ясно, что обучение сети - по сути есть изменение ее параметров таким образом, чтобы значение функции ошибки было минимально.\n",
    "\n",
    "На одних и тех же данных наша функция ошибки (назовем ее *L*), очевидно, зависит от параметров нейронной сети, так как зависит (при одних и тех же данных) именно от того, что сеть выдаёт в качестве ответа.\n",
    "\n",
    "Таким образом, имея функцию $L(p_1, \\dots, p_n)$, где $p_k = [[w_11,\\dots,b_1],\\dots,[w_i1,\\dots,b_i]]$ - параметры слоя, мы можем попытаться так подстроить параметры функции *L*, чтобы она становилась меньше и меньше\n",
    "\n",
    "Для этого нам всего лишь надо вычислить градиент этой функции и сместить вектор параметров на антиградиент.\n",
    "\n",
    "Данная функция - сложная, и имеет следующий вид:\n",
    "$$\n",
    "L(\\dots) = MSE(real - \\vec o(\\vec x))\n",
    "$$\n",
    "её частные производные по параметрам равны\n",
    "$$\n",
    "\\frac{\\delta L}{\\delta w} = \\frac{\\delta L}{\\delta \\vec o}*\\frac{\\delta \\vec o}{\\delta w}\n",
    "$$\n",
    "\n",
    "Теперь посчитаем производную функции $\\vec o(\\vec x)$: вспомним, что каждый нейрон - вложенная функция внутри $\\vec o(\\vec x)$, которая как раз и зависит от параметров *w*. Стало быть производная имеет вид\n",
    "\n",
    "$$\n",
    "\\frac{\\delta \\vec o}{\\delta w} = \\frac{\\delta \\vec o}{\\delta n} * \\frac{\\delta \\vec n}{\\delta w}\n",
    "$$\n",
    "\n",
    "Таким образом\n",
    "$$\n",
    "\\frac{\\delta L}{\\delta w} = \\frac{\\delta L}{\\delta \\vec o}*\\frac{\\delta \\vec o}{\\delta n} * \\frac{\\delta \\vec n}{\\delta w}\n",
    "$$\n",
    "\n",
    "Здесь $\\frac{\\delta L}{\\delta \\vec o}$ - всего лишь производная функции ошибки, $\\frac{\\delta \\vec n}{\\delta w}$ - производная функции активации, а вот $\\frac{\\delta \\vec o}{\\delta n}$ - зависит не только от выхода сети, но и от того, сколько слоёв следует после текущего.\n",
    "\n",
    "По сути $\\frac{\\delta \\vec o}{\\delta n}$ - тоже сложная функция с разной глубиной для разных слоев, так что ее вычисление будет реализовываться на уровне сети"
   ]
  },
  {
   "cell_type": "code",
   "execution_count": 34,
   "metadata": {},
   "outputs": [],
   "source": [
    "# Итак, реализуем недостающие компоненты:\n",
    "class Loss:\n",
    "    @staticmethod\n",
    "    def value(real: np.array, predicted: np.array) -> float:\n",
    "        raise DummyClassException(Loss)\n",
    "\n",
    "    @staticmethod\n",
    "    def derive(real: np.array, predicted: np.array) -> float:\n",
    "        raise DummyClassException(Loss)\n",
    "\n",
    "\n",
    "class MeanSquaredError(Loss):\n",
    "    @staticmethod\n",
    "    def value(real: np.array, predicted: np.array) -> float:\n",
    "        errors = np.array([((real[i] - predicted[i])**2).sum() for i, _ in enumerate(real)])\n",
    "        return errors.mean()\n",
    "\n",
    "    @staticmethod\n",
    "    def derive(real: np.array, predicted: np.array) -> float:\n",
    "        errors = np.array([(-2*(real[i] - predicted[i])).sum() for i, _ in enumerate(real)])\n",
    "        return errors.mean()"
   ]
  },
  {
   "cell_type": "code",
   "execution_count": 35,
   "metadata": {},
   "outputs": [],
   "source": [
    "# Добавим в класс сети метод для обучения, который просто вычисляет частные производные по всем параметрам сети\n",
    "# А потом поправляет эти параметры на получившийся антиградиент\n",
    "\n",
    "\n",
    "class Network(SimpleNetwork):\n",
    "    def fit(self, x: np.array, y: np.array, loss_type: type[Loss], lr: float = 0.1):\n",
    "        predicted = self.predict_many(x)\n",
    "        loss = loss_type.value(x, predicted)\n",
    "        dL_dPred = loss_type.derive(y, predicted)\n",
    "\n",
    "        for layer_num, _ in reversed(tuple(enumerate(self.layers))[1:-1]):\n",
    "            next_l = self.layers[layer_num+1]\n",
    "            layer = self.layers[layer_num]\n",
    "\n",
    "            for neuron_num, neuron in enumerate(layer.neurons):\n",
    "                dPred_dH = (next_l.neurons[:, neuron_num]*[next_l.activation.derive(x) for x in next_l.last_unactivated]).mean()\n",
    "\n",
    "                for w_num, _ in enumerate(neuron):\n",
    "                    p1 = layer.last_inputs[w_num]\n",
    "                    p2 = layer.activation.derive(layer.last_unactivated[neuron_num])\n",
    "                    dH1_dW = p1*p2\n",
    "                    layer.neurons[neuron_num][w_num] -= dL_dPred*dPred_dH*dH1_dW*lr"
   ]
  },
  {
   "cell_type": "code",
   "execution_count": 41,
   "metadata": {},
   "outputs": [
    {
     "data": {
      "text/plain": [
       "[<matplotlib.lines.Line2D at 0x7fc4b0f7a040>]"
      ]
     },
     "execution_count": 41,
     "metadata": {},
     "output_type": "execute_result"
    },
    {
     "data": {
      "image/png": "[encoded data removed]",
      "text/plain": [
       "<Figure size 432x288 with 1 Axes>"
      ]
     },
     "metadata": {
      "needs_background": "light"
     },
     "output_type": "display_data"
    }
   ],
   "source": [
    "#И проверим, как учится наша сеть, посмотрев, как меняется значение ошибки:\n",
    "import matplotlib.pyplot as plt\n",
    "\n",
    "x = np.array([\n",
    "    [1,2,3],\n",
    "    [2,3,1],\n",
    "    [-1,-2,-3],\n",
    "    [-3,-3,-3],\n",
    "    [1,2,3],\n",
    "    [2,3,1],\n",
    "    [-1,-2,-3],\n",
    "    [-3,-3,-3],\n",
    "    [1,2,3],\n",
    "    [2,3,1],\n",
    "    [-1,-2,-3],\n",
    "    [-1,-3,-3]\n",
    "])\n",
    "y = np.array([\n",
    "    [1],\n",
    "    [1],\n",
    "    [2],\n",
    "    [2],\n",
    "    [1],\n",
    "    [1],\n",
    "    [2],\n",
    "    [2],\n",
    "    [1],\n",
    "    [1],\n",
    "    [2],\n",
    "    [2]\n",
    "])\n",
    "\n",
    "net = Network(3)\n",
    "net.add(D1FullLayer, output_size=3, activation_type=SigmoidActivation)\n",
    "net.add(D1FullLayer, output_size=2, activation_type=SigmoidActivation)\n",
    "net.add(D1FullLayer, output_size=1, activation_type=SigmoidActivation)\n",
    "\n",
    "mse_history = []\n",
    "\n",
    "oldmse = MeanSquaredError.value(y, pred := net.predict_many(x))\n",
    "newmse = oldmse - 1\n",
    "\n",
    "\n",
    "count = 0\n",
    "while count < 1000 and (oldmse-newmse) > 0.000001:\n",
    "    count += 1\n",
    "    oldmse = MeanSquaredError.value(y, pred)\n",
    "    net.fit(x, y, MeanSquaredError, lr=0.1)\n",
    "    newmse = MeanSquaredError.value(y, pred := net.predict_many(x))\n",
    "    mse_history.append(newmse)\n",
    "\n",
    "#%%\n",
    "\n",
    "plt.plot(mse_history)"
   ]
  },
  {
   "cell_type": "markdown",
   "metadata": {},
   "source": [
    "# В результате\n",
    "\n",
    "Мы видим, что функция ошибки уменьшается.\n",
    "\n",
    "Наша сеть обучается, и мы прекрасны"
   ]
  }
 ],
 "metadata": {
  "kernelspec": {
   "display_name": "Python 3",
   "language": "python",
   "name": "python3"
  },
  "language_info": {
   "codemirror_mode": {
    "name": "ipython",
    "version": 3
   },
   "file_extension": ".py",
   "mimetype": "text/x-python",
   "name": "python",
   "nbconvert_exporter": "python",
   "pygments_lexer": "ipython3",
   "version": "3.9.5"
  }
 },
 "nbformat": 4,
 "nbformat_minor": 1
}
