{
 "cells": [
  {
   "cell_type": "code",
   "execution_count": 1,
   "metadata": {
    "collapsed": true,
    "pycharm": {
     "name": "#%%\n"
    }
   },
   "outputs": [],
   "source": [
    "from library.Layers import D1FullLayer\n",
    "from library.Activations import SigmoidActivation\n",
    "from library.Losses import MeanSquaredError\n",
    "from library.Network import Network\n",
    "import numpy as np\n",
    "\n",
    "import matplotlib.pyplot as plt"
   ]
  },
  {
   "cell_type": "code",
   "execution_count": 2,
   "outputs": [],
   "source": [
    "x = np.array([\n",
    "    [1,2,3],\n",
    "    [2,3,1],\n",
    "    [-1,-2,-3],\n",
    "    [-3,-3,-3],\n",
    "    [1,2,3],\n",
    "    [2,3,1],\n",
    "    [-1,-2,-3],\n",
    "    [-3,-3,-3],\n",
    "    [1,2,3],\n",
    "    [2,3,1],\n",
    "    [-1,-2,-3],\n",
    "    [-3,-3,-3]\n",
    "])\n",
    "y = np.array([\n",
    "    [1],\n",
    "    [1],\n",
    "    [0],\n",
    "    [0],\n",
    "    [1],\n",
    "    [1],\n",
    "    [0],\n",
    "    [0],\n",
    "    [1],\n",
    "    [1],\n",
    "    [0],\n",
    "    [0]\n",
    "])"
   ],
   "metadata": {
    "collapsed": false,
    "pycharm": {
     "name": "#%%\n"
    }
   }
  },
  {
   "cell_type": "code",
   "execution_count": 3,
   "outputs": [],
   "source": [
    "net = Network(3)\n",
    "net.add(D1FullLayer, output_size=2, activation_type=SigmoidActivation)\n",
    "net.add(D1FullLayer, output_size=1, activation_type=SigmoidActivation)"
   ],
   "metadata": {
    "collapsed": false,
    "pycharm": {
     "name": "#%%\n"
    }
   }
  },
  {
   "cell_type": "code",
   "execution_count": 4,
   "outputs": [
    {
     "name": "stdout",
     "output_type": "stream",
     "text": [
      "MSE 0.17322211342217086\n",
      "[[0.75940562]\n",
      " [0.76227424]\n",
      " [0.54775467]\n",
      " [0.52768749]\n",
      " [0.75940562]\n",
      " [0.76227424]\n",
      " [0.54775467]\n",
      " [0.52768749]\n",
      " [0.75940562]\n",
      " [0.76227424]\n",
      " [0.54775467]\n",
      " [0.52768749]]\n",
      "\n",
      "MSE 0.16381016407399676\n",
      "[[0.76807782]\n",
      " [0.7680816 ]\n",
      " [0.52330905]\n",
      " [0.52327264]\n",
      " [0.76807782]\n",
      " [0.7680816 ]\n",
      " [0.52330905]\n",
      " [0.52327264]\n",
      " [0.76807782]\n",
      " [0.7680816 ]\n",
      " [0.52330905]\n",
      " [0.52327264]]\n"
     ]
    }
   ],
   "source": [
    "oldmse = MeanSquaredError.value(y, pred := net.predict_many(x))\n",
    "newmse = oldmse - 1\n",
    "\n",
    "print(\"MSE\", oldmse)\n",
    "print(pred, end=\"\\n\\n\")\n",
    "\n",
    "mse_history = [oldmse]\n",
    "\n",
    "count = 0\n",
    "while count < 100000 and (oldmse-newmse) > 0.000000001:\n",
    "    count += 1\n",
    "    oldmse = MeanSquaredError.value(y, net.predict_many(x))\n",
    "    net.fit(x, y, MeanSquaredError, lr=100)\n",
    "    newmse = MeanSquaredError.value(y, pred := net.predict_many(x))\n",
    "    mse_history.append(newmse)\n",
    "\n",
    "print('MSE', newmse)\n",
    "print(pred)"
   ],
   "metadata": {
    "collapsed": false,
    "pycharm": {
     "name": "#%%\n"
    }
   }
  },
  {
   "cell_type": "code",
   "execution_count": 5,
   "outputs": [
    {
     "data": {
      "text/plain": "[<matplotlib.lines.Line2D at 0x7f0720450ac0>]"
     },
     "execution_count": 5,
     "metadata": {},
     "output_type": "execute_result"
    },
    {
     "data": {
      "text/plain": "<Figure size 432x288 with 1 Axes>",
      "image/png": "[encoded data removed]"
     },
     "metadata": {
      "needs_background": "light"
     },
     "output_type": "display_data"
    }
   ],
   "source": [
    "plt.plot(mse_history)"
   ],
   "metadata": {
    "collapsed": false,
    "pycharm": {
     "name": "#%%\n"
    }
   }
  },
  {
   "cell_type": "code",
   "execution_count": null,
   "outputs": [],
   "source": [],
   "metadata": {
    "collapsed": false,
    "pycharm": {
     "name": "#%%\n"
    }
   }
  }
 ],
 "metadata": {
  "kernelspec": {
   "display_name": "Python 3",
   "language": "python",
   "name": "python3"
  },
  "language_info": {
   "codemirror_mode": {
    "name": "ipython",
    "version": 2
   },
   "file_extension": ".py",
   "mimetype": "text/x-python",
   "name": "python",
   "nbconvert_exporter": "python",
   "pygments_lexer": "ipython2",
   "version": "2.7.6"
  }
 },
 "nbformat": 4,
 "nbformat_minor": 0
}