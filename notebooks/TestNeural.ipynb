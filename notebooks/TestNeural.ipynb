{
 "cells": [
  {
   "cell_type": "code",
   "execution_count": 1,
   "metadata": {
    "collapsed": true
   },
   "outputs": [],
   "source": [
    "from library.Layers import D1FullLayer as Layr\n",
    "from library.Activations import SigmoidActivation as Sig\n",
    "from library.Losses import MeanSquaredError as MSE\n",
    "from library.Network import Network as Net\n",
    "import numpy as np"
   ]
  },
  {
   "cell_type": "code",
   "execution_count": 2,
   "outputs": [],
   "source": [
    "l1 = Layr(2, 2, Sig)\n",
    "l2 = Layr(2, 1, Sig)"
   ],
   "metadata": {
    "collapsed": false,
    "pycharm": {
     "name": "#%%\n"
    }
   }
  },
  {
   "cell_type": "code",
   "execution_count": 3,
   "outputs": [
    {
     "name": "stdout",
     "output_type": "stream",
     "text": [
      "[[0.94271233 0.5521326  0.44902537]\n",
      " [0.67224335 0.41541393 0.34063954]]\n",
      "\n",
      "[[0.92240743 0.8540925  0.39118745]]\n"
     ]
    }
   ],
   "source": [
    "print(l1.neurons)\n",
    "print()\n",
    "print(l2.neurons)"
   ],
   "metadata": {
    "collapsed": false,
    "pycharm": {
     "name": "#%%\n"
    }
   }
  },
  {
   "cell_type": "code",
   "execution_count": 4,
   "outputs": [
    {
     "name": "stdout",
     "output_type": "stream",
     "text": [
      "[0.71782208 0.69347015]\n",
      "\n",
      "[0.83829543]\n"
     ]
    }
   ],
   "source": [
    "inputs = np.array([-3, 6])\n",
    "reals = np.array([1])\n",
    "from1 = l1.calculate(inputs)\n",
    "print(from1)\n",
    "from2 = l2.calculate(from1)\n",
    "print()\n",
    "print(from2)"
   ],
   "metadata": {
    "collapsed": false,
    "pycharm": {
     "name": "#%%\n"
    }
   }
  },
  {
   "cell_type": "code",
   "execution_count": 5,
   "outputs": [],
   "source": [
    "oldmse = MSE.value(reals, from2)"
   ],
   "metadata": {
    "collapsed": false,
    "pycharm": {
     "name": "#%%\n"
    }
   }
  },
  {
   "cell_type": "code",
   "execution_count": 6,
   "outputs": [
    {
     "name": "stdout",
     "output_type": "stream",
     "text": [
      "-0.32340914448577474\n",
      "0.1250380491604437\n",
      "-0.6076606185347212\n",
      "0.02457285263243884\n"
     ]
    }
   ],
   "source": [
    "dL_dPred = MSE.derive(reals, from2)\n",
    "dPred_dH1 = l2.neurons[0][0]*Sig.derive(l2.last_unactivated)\n",
    "dH1_dW1 = inputs[0]*Sig.derive(l1.last_neurons_unactivated[0])\n",
    "\n",
    "print(dL_dPred)\n",
    "print(dPred_dH1)\n",
    "print(dH1_dW1)\n",
    "\n",
    "dL_dW1 = dL_dPred*dPred_dH1*dH1_dW1\n",
    "print(dL_dW1)"
   ],
   "metadata": {
    "collapsed": false,
    "pycharm": {
     "name": "#%%\n"
    }
   }
  },
  {
   "cell_type": "code",
   "execution_count": 7,
   "outputs": [
    {
     "name": "stdout",
     "output_type": "stream",
     "text": [
      "[0.84169172 0.69347015]\n",
      "\n",
      "[0.85319185]\n"
     ]
    },
    {
     "data": {
      "text/plain": "True"
     },
     "execution_count": 7,
     "metadata": {},
     "output_type": "execute_result"
    }
   ],
   "source": [
    "l1.neurons[0][0] -= dL_dW1*10\n",
    "from1 = l1.calculate(inputs)\n",
    "print(from1)\n",
    "from2 = l2.calculate(from1)\n",
    "print()\n",
    "print(from2)\n",
    "oldmse - MSE.value(reals, from2) > 0"
   ],
   "metadata": {
    "collapsed": false,
    "pycharm": {
     "name": "#%%\n"
    }
   }
  },
  {
   "cell_type": "code",
   "execution_count": 15,
   "outputs": [
    {
     "name": "stdout",
     "output_type": "stream",
     "text": [
      "[[0.76070503]\n",
      " [0.76069515]\n",
      " [0.76068671]]\n"
     ]
    },
    {
     "data": {
      "text/plain": "2.0857882673038493"
     },
     "execution_count": 15,
     "metadata": {},
     "output_type": "execute_result"
    }
   ],
   "source": [
    "inputs = np.array([[1,2,3],[0,-1,-2],[-1,-2,-3]])\n",
    "reals = np.array([1,-1,-1])\n",
    "\n",
    "n1 = Net(3)\n",
    "n1.add(Layr, output_size=3, activation_type=Sig)\n",
    "n1.add(Layr, output_size=5, activation_type=Sig)\n",
    "n1.add(Layr, output_size=5, activation_type=Sig)\n",
    "n1.add(Layr, output_size=5, activation_type=Sig)\n",
    "n1.add(Layr, output_size=4, activation_type=Sig)\n",
    "n1.add(Layr, output_size=2, activation_type=Sig)\n",
    "n1.add(Layr, output_size=1, activation_type=Sig)\n",
    "predicts = n1.predict_many(inputs)\n",
    "print(predicts)\n",
    "oldmse = MSE.value(reals, predicts)\n",
    "newmse = MSE.value(reals, predicts) - 1\n",
    "oldmse"
   ],
   "metadata": {
    "collapsed": false,
    "pycharm": {
     "name": "#%%\n"
    }
   }
  },
  {
   "cell_type": "code",
   "execution_count": 16,
   "outputs": [
    {
     "name": "stdout",
     "output_type": "stream",
     "text": [
      "[[0.5498552 ]\n",
      " [0.54994772]\n",
      " [0.54995008]]\n",
      "1.669021219229984\n",
      "7688\n"
     ]
    }
   ],
   "source": [
    "count = 10000\n",
    "while oldmse > newmse and count > 0:\n",
    "    count -= 1\n",
    "    oldmse = MSE.value(reals, predicts)\n",
    "    n1.fit(inputs, reals, MSE, lr=0.5)\n",
    "    predicts = n1.predict_many(inputs)\n",
    "    newmse = MSE.value(reals, predicts)\n",
    "#print(newmse)\n",
    "#for l in n1.layers:\n",
    "#    print(l.neurons)\n",
    "print(predicts)\n",
    "print(newmse)\n",
    "print(count)"
   ],
   "metadata": {
    "collapsed": false,
    "pycharm": {
     "name": "#%%\n"
    }
   }
  },
  {
   "cell_type": "code",
   "execution_count": 58,
   "outputs": [],
   "source": [],
   "metadata": {
    "collapsed": false,
    "pycharm": {
     "name": "#%%\n"
    }
   }
  },
  {
   "cell_type": "code",
   "execution_count": null,
   "outputs": [],
   "source": [],
   "metadata": {
    "collapsed": false,
    "pycharm": {
     "name": "#%%\n"
    }
   }
  }
 ],
 "metadata": {
  "kernelspec": {
   "display_name": "Python 3",
   "language": "python",
   "name": "python3"
  },
  "language_info": {
   "codemirror_mode": {
    "name": "ipython",
    "version": 2
   },
   "file_extension": ".py",
   "mimetype": "text/x-python",
   "name": "python",
   "nbconvert_exporter": "python",
   "pygments_lexer": "ipython2",
   "version": "2.7.6"
  }
 },
 "nbformat": 4,
 "nbformat_minor": 0
}