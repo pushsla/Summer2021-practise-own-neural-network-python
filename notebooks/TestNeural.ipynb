{
 "cells": [
  {
   "cell_type": "code",
   "execution_count": 1,
   "metadata": {
    "collapsed": true
   },
   "outputs": [],
   "source": [
    "from library.Layers import D1FullLayer as Layer\n",
    "from library.Activations import SigmoidActivation as Sig\n",
    "from library.Losses import MeanSquaredError as MSE\n",
    "import numpy as np"
   ]
  },
  {
   "cell_type": "code",
   "execution_count": 2,
   "outputs": [],
   "source": [
    "l1 = Layer(2, 2, Sig)\n",
    "l2 = Layer(2, 1, Sig)"
   ],
   "metadata": {
    "collapsed": false,
    "pycharm": {
     "name": "#%%\n"
    }
   }
  },
  {
   "cell_type": "code",
   "execution_count": 3,
   "outputs": [
    {
     "name": "stdout",
     "output_type": "stream",
     "text": [
      "[[0.6734874  0.83949236 0.71005106]\n",
      " [0.18627157 0.90225276 0.07379097]]\n",
      "\n",
      "[[0.56318899 0.47338289 0.51477689]]\n"
     ]
    }
   ],
   "source": [
    "print(l1.neurons)\n",
    "print()\n",
    "print(l2.neurons)"
   ],
   "metadata": {
    "collapsed": false,
    "pycharm": {
     "name": "#%%\n"
    }
   }
  },
  {
   "cell_type": "code",
   "execution_count": 4,
   "outputs": [
    {
     "name": "stdout",
     "output_type": "stream",
     "text": [
      "[0.9764901 0.9928146]\n",
      "\n",
      "[0.82269393]\n"
     ]
    }
   ],
   "source": [
    "inputs = np.array([-3, 6])\n",
    "reals = np.array([1])\n",
    "from1 = l1.calculate(inputs)\n",
    "print(from1)\n",
    "from2 = l2.calculate(from1)\n",
    "print()\n",
    "print(from2)"
   ],
   "metadata": {
    "collapsed": false,
    "pycharm": {
     "name": "#%%\n"
    }
   }
  },
  {
   "cell_type": "code",
   "execution_count": 5,
   "outputs": [],
   "source": [
    "oldmse = MSE.value(reals, from2)"
   ],
   "metadata": {
    "collapsed": false,
    "pycharm": {
     "name": "#%%\n"
    }
   }
  },
  {
   "cell_type": "code",
   "execution_count": 31,
   "outputs": [
    {
     "name": "stdout",
     "output_type": "stream",
     "text": [
      "-0.3537321422547435\n",
      "0.08199156778774663\n",
      "-0.05345821937732705\n",
      "0.0015504515656301478\n"
     ]
    }
   ],
   "source": [
    "dL_dPred = MSE.derive(reals, from2)\n",
    "dPred_dH1 = l2.neurons[0][0]*Sig.derive(l2.last_unactivated)\n",
    "dH1_dW1 = inputs[0]*Sig.derive(l1.last_neurons_unactivated[0])\n",
    "\n",
    "print(dL_dPred)\n",
    "print(dPred_dH1)\n",
    "print(dH1_dW1)\n",
    "\n",
    "dL_dW1 = dL_dPred*dPred_dH1*dH1_dW1\n",
    "print(dL_dW1)"
   ],
   "metadata": {
    "collapsed": false,
    "pycharm": {
     "name": "#%%\n"
    }
   }
  },
  {
   "cell_type": "code",
   "execution_count": 32,
   "outputs": [
    {
     "name": "stdout",
     "output_type": "stream",
     "text": [
      "[0.98266175 0.9928146 ]\n",
      "\n",
      "[0.82320038]\n"
     ]
    },
    {
     "data": {
      "text/plain": "True"
     },
     "execution_count": 32,
     "metadata": {},
     "output_type": "execute_result"
    }
   ],
   "source": [
    "l1.neurons[0][0] -= dL_dW1*10\n",
    "from1 = l1.calculate(inputs)\n",
    "print(from1)\n",
    "from2 = l2.calculate(from1)\n",
    "print()\n",
    "print(from2)\n",
    "oldmse - MSE.value(reals, from2) > 0"
   ],
   "metadata": {
    "collapsed": false,
    "pycharm": {
     "name": "#%%\n"
    }
   }
  },
  {
   "cell_type": "code",
   "execution_count": null,
   "outputs": [],
   "source": [],
   "metadata": {
    "collapsed": false,
    "pycharm": {
     "name": "#%%\n"
    }
   }
  }
 ],
 "metadata": {
  "kernelspec": {
   "display_name": "Python 3",
   "language": "python",
   "name": "python3"
  },
  "language_info": {
   "codemirror_mode": {
    "name": "ipython",
    "version": 2
   },
   "file_extension": ".py",
   "mimetype": "text/x-python",
   "name": "python",
   "nbconvert_exporter": "python",
   "pygments_lexer": "ipython2",
   "version": "2.7.6"
  }
 },
 "nbformat": 4,
 "nbformat_minor": 0
}