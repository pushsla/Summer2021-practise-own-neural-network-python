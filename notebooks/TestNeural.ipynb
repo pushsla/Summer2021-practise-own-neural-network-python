{
 "cells": [
  {
   "cell_type": "code",
   "execution_count": 1,
   "metadata": {
    "collapsed": true,
    "pycharm": {
     "name": "#%%\n"
    }
   },
   "outputs": [],
   "source": [
    "from library.Layers import D1FullLayer\n",
    "from library.Activations import SigmoidActivation\n",
    "from library.Losses import MeanSquaredError\n",
    "from library.Network import Network\n",
    "import numpy as np"
   ]
  },
  {
   "cell_type": "code",
   "execution_count": 2,
   "outputs": [],
   "source": [
    "x = np.array([\n",
    "    [1,2,3],\n",
    "    [2,3,1],\n",
    "    [-1,-2,-3],\n",
    "    [-3,-3,-3]\n",
    "])\n",
    "y = np.array([\n",
    "    [1],\n",
    "    [1],\n",
    "    [0],\n",
    "    [0]\n",
    "])"
   ],
   "metadata": {
    "collapsed": false,
    "pycharm": {
     "name": "#%%\n"
    }
   }
  },
  {
   "cell_type": "code",
   "execution_count": 3,
   "outputs": [],
   "source": [
    "net = Network(3)\n",
    "net.add(D1FullLayer, output_size=2, activation_type=SigmoidActivation)\n",
    "net.add(D1FullLayer, output_size=1, activation_type=SigmoidActivation)"
   ],
   "metadata": {
    "collapsed": false,
    "pycharm": {
     "name": "#%%\n"
    }
   }
  },
  {
   "cell_type": "code",
   "execution_count": 4,
   "outputs": [
    {
     "name": "stdout",
     "output_type": "stream",
     "text": [
      "0.27462092221476775\n",
      "[[0.84468358]\n",
      " [0.84469097]\n",
      " [0.72473574]\n",
      " [0.72456726]]\n"
     ]
    }
   ],
   "source": [
    "oldmse = MeanSquaredError.value(y, net.predict_many(x))\n",
    "newmse = oldmse - 1\n",
    "\n",
    "count = 0\n",
    "while count < 100000 and (oldmse-newmse) > 0.000001:\n",
    "    count += 1\n",
    "    oldmse = MeanSquaredError.value(y, net.predict_many(x))\n",
    "    net.fit(x, y, MeanSquaredError, lr=100)\n",
    "    newmse = MeanSquaredError.value(y, pred := net.predict_many(x))\n",
    "\n",
    "print(newmse)\n",
    "print(pred)"
   ],
   "metadata": {
    "collapsed": false,
    "pycharm": {
     "name": "#%%\n"
    }
   }
  }
 ],
 "metadata": {
  "kernelspec": {
   "display_name": "Python 3",
   "language": "python",
   "name": "python3"
  },
  "language_info": {
   "codemirror_mode": {
    "name": "ipython",
    "version": 2
   },
   "file_extension": ".py",
   "mimetype": "text/x-python",
   "name": "python",
   "nbconvert_exporter": "python",
   "pygments_lexer": "ipython2",
   "version": "2.7.6"
  }
 },
 "nbformat": 4,
 "nbformat_minor": 0
}